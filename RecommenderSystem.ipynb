{
 "cells": [
  {
   "cell_type": "code",
   "execution_count": 9,
   "id": "62b56139",
   "metadata": {},
   "outputs": [],
   "source": [
    "import pandas as pd\n",
    "\n",
    "data = pd.read_csv('clean_data_9000.csv')\n",
    "\n",
    "data['SAT_score_range'] = pd.cut(data['SATMT75'], bins=[400, 500, 600, 700, 800], labels=['400-500', '500-600', '600-700', '700-800'])\n",
    "data['ACT_score_range'] = pd.cut(data['ACTCM75'], bins=[10, 20, 25, 30, 36], labels=['10-20', '20-25', '25-30', '30-36'])\n",
    "\n",
    "# Creating a categorical variable for median earnings\n",
    "data['earnings_category'] = pd.cut(data['MD_EARN_WNE_P10'], bins=[0, 30000, 50000, 70000, 100000, float('inf')], labels=['<30K', '30-50K', '50-70K', '70-100K', '>100K'])\n",
    "\n",
    "# Select and combine features into transactions\n",
    "transactions = data[['SAT_score_range', 'ACT_score_range', 'earnings_category']].apply(lambda x: x.dropna().tolist(), axis=1)"
   ]
  },
  {
   "cell_type": "code",
   "execution_count": 20,
   "id": "5b4b1ed3",
   "metadata": {},
   "outputs": [
    {
     "name": "stdout",
     "output_type": "stream",
     "text": [
      "Requirement already satisfied: mlxtend in /Users/kaola/Documents/anaconda/anaconda3/lib/python3.9/site-packages (0.23.1)\n",
      "Requirement already satisfied: scipy>=1.2.1 in /Users/kaola/Documents/anaconda/anaconda3/lib/python3.9/site-packages (from mlxtend) (1.9.1)\n",
      "Requirement already satisfied: numpy>=1.16.2 in /Users/kaola/Documents/anaconda/anaconda3/lib/python3.9/site-packages (from mlxtend) (1.24.4)\n",
      "Requirement already satisfied: joblib>=0.13.2 in /Users/kaola/Documents/anaconda/anaconda3/lib/python3.9/site-packages (from mlxtend) (1.1.0)\n",
      "Requirement already satisfied: pandas>=0.24.2 in /Users/kaola/Documents/anaconda/anaconda3/lib/python3.9/site-packages (from mlxtend) (1.4.4)\n",
      "Requirement already satisfied: scikit-learn>=1.0.2 in /Users/kaola/Documents/anaconda/anaconda3/lib/python3.9/site-packages (from mlxtend) (1.0.2)\n",
      "Requirement already satisfied: matplotlib>=3.0.0 in /Users/kaola/Documents/anaconda/anaconda3/lib/python3.9/site-packages (from mlxtend) (3.5.2)\n",
      "Requirement already satisfied: pillow>=6.2.0 in /Users/kaola/Documents/anaconda/anaconda3/lib/python3.9/site-packages (from matplotlib>=3.0.0->mlxtend) (9.2.0)\n",
      "Requirement already satisfied: pyparsing>=2.2.1 in /Users/kaola/Documents/anaconda/anaconda3/lib/python3.9/site-packages (from matplotlib>=3.0.0->mlxtend) (3.0.9)\n",
      "Requirement already satisfied: kiwisolver>=1.0.1 in /Users/kaola/Documents/anaconda/anaconda3/lib/python3.9/site-packages (from matplotlib>=3.0.0->mlxtend) (1.4.2)\n",
      "Requirement already satisfied: python-dateutil>=2.7 in /Users/kaola/Documents/anaconda/anaconda3/lib/python3.9/site-packages (from matplotlib>=3.0.0->mlxtend) (2.8.2)\n",
      "Requirement already satisfied: cycler>=0.10 in /Users/kaola/Documents/anaconda/anaconda3/lib/python3.9/site-packages (from matplotlib>=3.0.0->mlxtend) (0.11.0)\n",
      "Requirement already satisfied: packaging>=20.0 in /Users/kaola/Documents/anaconda/anaconda3/lib/python3.9/site-packages (from matplotlib>=3.0.0->mlxtend) (21.3)\n",
      "Requirement already satisfied: fonttools>=4.22.0 in /Users/kaola/Documents/anaconda/anaconda3/lib/python3.9/site-packages (from matplotlib>=3.0.0->mlxtend) (4.25.0)\n",
      "Requirement already satisfied: pytz>=2020.1 in /Users/kaola/Documents/anaconda/anaconda3/lib/python3.9/site-packages (from pandas>=0.24.2->mlxtend) (2022.1)\n",
      "Requirement already satisfied: threadpoolctl>=2.0.0 in /Users/kaola/Documents/anaconda/anaconda3/lib/python3.9/site-packages (from scikit-learn>=1.0.2->mlxtend) (2.2.0)\n",
      "Requirement already satisfied: six>=1.5 in /Users/kaola/Documents/anaconda/anaconda3/lib/python3.9/site-packages (from python-dateutil>=2.7->matplotlib>=3.0.0->mlxtend) (1.16.0)\n",
      "Note: you may need to restart the kernel to use updated packages.\n"
     ]
    }
   ],
   "source": [
    "pip install mlxtend"
   ]
  },
  {
   "cell_type": "code",
   "execution_count": 22,
   "id": "5e0c25c4",
   "metadata": {
    "scrolled": true
   },
   "outputs": [
    {
     "name": "stdout",
     "output_type": "stream",
     "text": [
      "     support itemsets\n",
      "0   0.072306   (10.0)\n",
      "1   0.104599   (11.0)\n",
      "2   0.105904   (12.0)\n",
      "3   0.102751   (13.0)\n",
      "4   0.095248   (14.0)\n",
      "5   0.078069   (15.0)\n",
      "6   0.070566   (16.0)\n",
      "7   0.071436   (17.0)\n",
      "8   0.061977   (18.0)\n",
      "9   0.055888   (19.0)\n",
      "10  0.054366   (20.0)\n",
      "11  0.054257   (21.0)\n",
      "12  0.076112   (22.0)\n",
      "13  0.105360   (23.0)\n",
      "14  0.109818   (24.0)\n",
      "15  0.125584   (25.0)\n",
      "16  0.115799   (26.0)\n",
      "17  0.093617   (27.0)\n",
      "18  0.076003   (28.0)\n",
      "19  0.062085   (29.0)\n",
      "20  0.051973  (520.0)\n",
      "21  0.059693  (530.0)\n",
      "22  0.076873  (540.0)\n",
      "23  0.089160  (550.0)\n",
      "24  0.094161  (560.0)\n",
      "25  0.103186  (570.0)\n",
      "26  0.108840  (580.0)\n",
      "27  0.112211  (590.0)\n",
      "28  0.101337  (600.0)\n",
      "29  0.092965  (610.0)\n",
      "30  0.089377  (620.0)\n",
      "31  0.079374  (630.0)\n",
      "32  0.067957  (640.0)\n",
      "33  0.057410  (650.0)\n",
      "34  0.051865  (660.0)\n",
      "35  0.052300    (9.0)\n"
     ]
    }
   ],
   "source": [
    "from mlxtend.frequent_patterns import apriori, association_rules\n",
    "from mlxtend.preprocessing import TransactionEncoder\n",
    "from mlxtend.frequent_patterns import apriori\n",
    "\n",
    "# Encode the dataset\n",
    "te = TransactionEncoder()\n",
    "te_ary = te.fit(transactions).transform(transactions)\n",
    "df = pd.DataFrame(te_ary, columns=te.columns_)\n",
    "\n",
    "# Applying Eclat: we use apriori but only with support parameter, effectively making it Eclat\n",
    "frequent_itemsets = apriori(df, min_support=0.05, use_colnames=True)\n",
    "\n",
    "print(frequent_itemsets)"
   ]
  },
  {
   "cell_type": "code",
   "execution_count": 12,
   "id": "6e670670",
   "metadata": {},
   "outputs": [
    {
     "name": "stdout",
     "output_type": "stream",
     "text": [
      "Frequent Itemsets:\n",
      "     support                  itemsets\n",
      "0   0.057954                   (10-20)\n",
      "1   0.421877                   (20-25)\n",
      "2   0.386213                   (25-30)\n",
      "3   0.133848                   (30-36)\n",
      "4   0.220942                  (30-50K)\n",
      "5   0.060672                 (400-500)\n",
      "6   0.739263                  (50-70K)\n",
      "7   0.524193                 (500-600)\n",
      "8   0.308361                 (600-700)\n",
      "9   0.105469                 (700-800)\n",
      "10  0.128520           (30-50K, 20-25)\n",
      "11  0.288681           (20-25, 50-70K)\n",
      "12  0.368164          (20-25, 500-600)\n",
      "13  0.069805           (30-50K, 25-30)\n",
      "14  0.306622           (50-70K, 25-30)\n",
      "15  0.130804          (25-30, 500-600)\n",
      "16  0.247146          (600-700, 25-30)\n",
      "17  0.107535           (30-36, 50-70K)\n",
      "18  0.099054          (700-800, 30-36)\n",
      "19  0.154398         (30-50K, 500-600)\n",
      "20  0.364793         (50-70K, 500-600)\n",
      "21  0.251060         (600-700, 50-70K)\n",
      "22  0.081440         (700-800, 50-70K)\n",
      "23  0.115038  (30-50K, 20-25, 500-600)\n",
      "24  0.250082  (20-25, 500-600, 50-70K)\n",
      "25  0.099163  (50-70K, 25-30, 500-600)\n",
      "26  0.201044  (600-700, 50-70K, 25-30)\n",
      "27  0.076221  (700-800, 30-36, 50-70K)\n",
      "\n",
      "Association Rules:\n",
      "          antecedents        consequents   support  confidence      lift\n",
      "0            (30-50K)            (20-25)  0.128520    0.581693  1.378822\n",
      "1             (20-25)           (30-50K)  0.128520    0.304639  1.378822\n",
      "2             (20-25)           (50-70K)  0.288681    0.684278  0.925623\n",
      "3            (50-70K)            (20-25)  0.288681    0.390499  0.925623\n",
      "4             (20-25)          (500-600)  0.368164    0.872680  1.664808\n",
      "5           (500-600)            (20-25)  0.368164    0.702344  1.664808\n",
      "6            (30-50K)            (25-30)  0.069805    0.315945  0.818059\n",
      "7             (25-30)           (30-50K)  0.069805    0.180743  0.818059\n",
      "8            (50-70K)            (25-30)  0.306622    0.414767  1.073933\n",
      "9             (25-30)           (50-70K)  0.306622    0.793919  1.073933\n",
      "10            (25-30)          (500-600)  0.130804    0.338682  0.646103\n",
      "11          (500-600)            (25-30)  0.130804    0.249533  0.646103\n",
      "12          (600-700)            (25-30)  0.247146    0.801481  2.075231\n",
      "13            (25-30)          (600-700)  0.247146    0.639921  2.075231\n",
      "14            (30-36)           (50-70K)  0.107535    0.803412  1.086774\n",
      "15           (50-70K)            (30-36)  0.107535    0.145463  1.086774\n",
      "16          (700-800)            (30-36)  0.099054    0.939175  7.016730\n",
      "17            (30-36)          (700-800)  0.099054    0.740049  7.016730\n",
      "18           (30-50K)          (500-600)  0.154398    0.698819  1.333134\n",
      "19          (500-600)           (30-50K)  0.154398    0.294545  1.333134\n",
      "20           (50-70K)          (500-600)  0.364793    0.493455  0.941362\n",
      "21          (500-600)           (50-70K)  0.364793    0.695914  0.941362\n",
      "22          (600-700)           (50-70K)  0.251060    0.814175  1.101334\n",
      "23           (50-70K)          (600-700)  0.251060    0.339609  1.101334\n",
      "24          (700-800)           (50-70K)  0.081440    0.772165  1.044507\n",
      "25           (50-70K)          (700-800)  0.081440    0.110163  1.044507\n",
      "26    (20-25, 30-50K)          (500-600)  0.115038    0.895093  1.707565\n",
      "27  (30-50K, 500-600)            (20-25)  0.115038    0.745070  1.766086\n",
      "28   (20-25, 500-600)           (30-50K)  0.115038    0.312463  1.414234\n",
      "29           (30-50K)   (20-25, 500-600)  0.115038    0.520669  1.414234\n",
      "30            (20-25)  (30-50K, 500-600)  0.115038    0.272680  1.766086\n",
      "31          (500-600)    (20-25, 30-50K)  0.115038    0.219457  1.707565\n",
      "32   (20-25, 500-600)           (50-70K)  0.250082    0.679268  0.918845\n",
      "33    (20-25, 50-70K)          (500-600)  0.250082    0.866290  1.652618\n",
      "34  (50-70K, 500-600)            (20-25)  0.250082    0.685544  1.624987\n",
      "35            (20-25)  (50-70K, 500-600)  0.250082    0.592784  1.624987\n",
      "36          (500-600)    (20-25, 50-70K)  0.250082    0.477079  1.652618\n",
      "37           (50-70K)   (20-25, 500-600)  0.250082    0.338285  0.918845\n",
      "38    (50-70K, 25-30)          (500-600)  0.099163    0.323404  0.616957\n",
      "39  (50-70K, 500-600)            (25-30)  0.099163    0.271833  0.703843\n",
      "40   (25-30, 500-600)           (50-70K)  0.099163    0.758105  1.025487\n",
      "41           (50-70K)   (25-30, 500-600)  0.099163    0.134137  1.025487\n",
      "42            (25-30)  (50-70K, 500-600)  0.099163    0.256757  0.703843\n",
      "43          (500-600)    (50-70K, 25-30)  0.099163    0.189172  0.616957\n",
      "44  (600-700, 50-70K)            (25-30)  0.201044    0.800780  2.073415\n",
      "45   (600-700, 25-30)           (50-70K)  0.201044    0.813462  1.100370\n",
      "46    (50-70K, 25-30)          (600-700)  0.201044    0.655674  2.126316\n",
      "47          (600-700)    (50-70K, 25-30)  0.201044    0.651975  2.126316\n",
      "48           (50-70K)   (600-700, 25-30)  0.201044    0.271952  1.100370\n",
      "49            (25-30)  (600-700, 50-70K)  0.201044    0.520552  2.073415\n",
      "50   (700-800, 30-36)           (50-70K)  0.076221    0.769484  1.040880\n",
      "51  (700-800, 50-70K)            (30-36)  0.076221    0.935915  6.992369\n",
      "52    (30-36, 50-70K)          (700-800)  0.076221    0.708797  6.720416\n",
      "53          (700-800)    (30-36, 50-70K)  0.076221    0.722680  6.720416\n",
      "54            (30-36)  (700-800, 50-70K)  0.076221    0.569456  6.992369\n",
      "55           (50-70K)   (700-800, 30-36)  0.076221    0.103103  1.040880\n"
     ]
    }
   ],
   "source": [
    "from mlxtend.frequent_patterns import association_rules\n",
    "\n",
    "# Review frequent itemsets\n",
    "print(\"Frequent Itemsets:\")\n",
    "print(frequent_itemsets)\n",
    "\n",
    "# Generate association rules (only if you want to explore implications, though Eclat mainly focuses on support)\n",
    "rules = association_rules(frequent_itemsets, metric=\"confidence\", min_threshold=0.1)  # Adjust threshold as needed\n",
    "print(\"\\nAssociation Rules:\")\n",
    "print(rules[['antecedents', 'consequents', 'support', 'confidence', 'lift']])"
   ]
  },
  {
   "cell_type": "code",
   "execution_count": 13,
   "id": "27269d73",
   "metadata": {
    "scrolled": true
   },
   "outputs": [
    {
     "data": {
      "image/png": "[encoded data removed]",
      "text/plain": [
       "<Figure size 640x480 with 1 Axes>"
      ]
     },
     "metadata": {},
     "output_type": "display_data"
    }
   ],
   "source": [
    "import matplotlib.pyplot as plt\n",
    "\n",
    "plt.scatter(rules['support'], rules['confidence'], alpha=0.5)\n",
    "plt.title('Support vs Confidence')\n",
    "plt.xlabel('Support')\n",
    "plt.ylabel('Confidence')\n",
    "plt.show()"
   ]
  },
  {
   "cell_type": "code",
   "execution_count": 14,
   "id": "260ef196",
   "metadata": {},
   "outputs": [
    {
     "name": "stdout",
     "output_type": "stream",
     "text": [
      "     support           itemsets\n",
      "6   0.739263           (50-70K)\n",
      "7   0.524193          (500-600)\n",
      "1   0.421877            (20-25)\n",
      "2   0.386213            (25-30)\n",
      "12  0.368164   (20-25, 500-600)\n",
      "20  0.364793  (50-70K, 500-600)\n",
      "8   0.308361          (600-700)\n",
      "14  0.306622    (50-70K, 25-30)\n",
      "11  0.288681    (20-25, 50-70K)\n",
      "21  0.251060  (600-700, 50-70K)\n"
     ]
    }
   ],
   "source": [
    "top_itemsets = frequent_itemsets.nlargest(10, 'support')\n",
    "print(top_itemsets)"
   ]
  },
  {
   "cell_type": "code",
   "execution_count": null,
   "id": "3ea6f99a",
   "metadata": {},
   "outputs": [],
   "source": []
  },
  {
   "cell_type": "code",
   "execution_count": 23,
   "id": "100d72c0",
   "metadata": {},
   "outputs": [
    {
     "name": "stdout",
     "output_type": "stream",
     "text": [
      "     support itemsets\n",
      "0   0.104599   (11.0)\n",
      "1   0.105904   (12.0)\n",
      "2   0.102751   (13.0)\n",
      "3   0.105360   (23.0)\n",
      "4   0.109818   (24.0)\n",
      "5   0.125584   (25.0)\n",
      "6   0.115799   (26.0)\n",
      "7   0.103186  (570.0)\n",
      "8   0.108840  (580.0)\n",
      "9   0.112211  (590.0)\n",
      "10  0.101337  (600.0)\n"
     ]
    }
   ],
   "source": [
    "transactions = data[['SATVR75', 'SATMT75', 'ACTCM75', 'STUFACR']].apply(lambda row: [str(item) for item in row], axis=1).tolist()\n",
    "\n",
    "# Encode transactions\n",
    "te = TransactionEncoder()\n",
    "te_ary = te.fit(transactions).transform(transactions)\n",
    "df = pd.DataFrame(te_ary, columns=te.columns_)\n",
    "\n",
    "# Use ECLAT to find frequent itemsets\n",
    "frequent_itemsets = apriori(df, min_support=0.1, use_colnames=True)\n",
    "print(frequent_itemsets)"
   ]
  },
  {
   "cell_type": "code",
   "execution_count": 24,
   "id": "3e9807c4",
   "metadata": {},
   "outputs": [
    {
     "name": "stdout",
     "output_type": "stream",
     "text": [
      "Requirement already satisfied: matplotlib in /Users/kaola/Documents/anaconda/anaconda3/lib/python3.9/site-packages (3.5.2)\n",
      "Requirement already satisfied: pandas in /Users/kaola/Documents/anaconda/anaconda3/lib/python3.9/site-packages (1.4.4)\n",
      "Requirement already satisfied: fonttools>=4.22.0 in /Users/kaola/Documents/anaconda/anaconda3/lib/python3.9/site-packages (from matplotlib) (4.25.0)\n",
      "Requirement already satisfied: pillow>=6.2.0 in /Users/kaola/Documents/anaconda/anaconda3/lib/python3.9/site-packages (from matplotlib) (9.2.0)\n",
      "Requirement already satisfied: cycler>=0.10 in /Users/kaola/Documents/anaconda/anaconda3/lib/python3.9/site-packages (from matplotlib) (0.11.0)\n",
      "Requirement already satisfied: pyparsing>=2.2.1 in /Users/kaola/Documents/anaconda/anaconda3/lib/python3.9/site-packages (from matplotlib) (3.0.9)\n",
      "Requirement already satisfied: python-dateutil>=2.7 in /Users/kaola/Documents/anaconda/anaconda3/lib/python3.9/site-packages (from matplotlib) (2.8.2)\n",
      "Requirement already satisfied: kiwisolver>=1.0.1 in /Users/kaola/Documents/anaconda/anaconda3/lib/python3.9/site-packages (from matplotlib) (1.4.2)\n",
      "Requirement already satisfied: numpy>=1.17 in /Users/kaola/Documents/anaconda/anaconda3/lib/python3.9/site-packages (from matplotlib) (1.24.4)\n",
      "Requirement already satisfied: packaging>=20.0 in /Users/kaola/Documents/anaconda/anaconda3/lib/python3.9/site-packages (from matplotlib) (21.3)\n",
      "Requirement already satisfied: pytz>=2020.1 in /Users/kaola/Documents/anaconda/anaconda3/lib/python3.9/site-packages (from pandas) (2022.1)\n",
      "Requirement already satisfied: six>=1.5 in /Users/kaola/Documents/anaconda/anaconda3/lib/python3.9/site-packages (from python-dateutil>=2.7->matplotlib) (1.16.0)\n",
      "Note: you may need to restart the kernel to use updated packages.\n"
     ]
    }
   ],
   "source": [
    "pip install matplotlib pandas"
   ]
  },
  {
   "cell_type": "code",
   "execution_count": 25,
   "id": "62411f89",
   "metadata": {},
   "outputs": [
    {
     "data": {
      "image/png": "[encoded data removed]",
      "text/plain": [
       "<Figure size 1400x700 with 1 Axes>"
      ]
     },
     "metadata": {},
     "output_type": "display_data"
    }
   ],
   "source": [
    "import pandas as pd\n",
    "import matplotlib.pyplot as plt\n",
    "\n",
    "# Assuming 'data' is your DataFrame containing the itemsets and their support values\n",
    "data = pd.DataFrame({\n",
    "    'itemset': [10.0, 11.0, 12.0, 13.0, 14.0, 15.0, 16.0, 17.0, 18.0, 19.0, 20.0, 21.0, 22.0, 23.0, 24.0, 25.0, 26.0, 27.0, 28.0, 29.0, 520.0, 530.0, 540.0, 550.0, 560.0, 570.0, 580.0],\n",
    "    'support': [0.072306, 0.104599, 0.105904, 0.102751, 0.095248, 0.078069, 0.070566, 0.071436, 0.061977, 0.055888, 0.054366, 0.054257, 0.076112, 0.105360, 0.109818, 0.125584, 0.115799, 0.093617, 0.076003, 0.062085, 0.051973, 0.059693, 0.076873, 0.089160, 0.094161, 0.103186, 0.108840]\n",
    "})\n",
    "\n",
    "# Plotting\n",
    "plt.figure(figsize=(14, 7))  # Set the figure size (optional)\n",
    "plt.bar(data['itemset'].astype(str), data['support'], color='skyblue')  # Create a bar plot\n",
    "plt.xlabel('Itemset')  # X-axis label\n",
    "plt.ylabel('Support')  # Y-axis label\n",
    "plt.title('Support of Itemsets')  # Title of the plot\n",
    "plt.xticks(rotation=90)  # Rotate the x-axis labels for better readability\n",
    "plt.show()\n"
   ]
  },
  {
   "cell_type": "code",
   "execution_count": null,
   "id": "1497a0f0",
   "metadata": {},
   "outputs": [],
   "source": []
  }
 ],
 "metadata": {
  "kernelspec": {
   "display_name": "Python 3 (ipykernel)",
   "language": "python",
   "name": "python3"
  },
  "language_info": {
   "codemirror_mode": {
    "name": "ipython",
    "version": 3
   },
   "file_extension": ".py",
   "mimetype": "text/x-python",
   "name": "python",
   "nbconvert_exporter": "python",
   "pygments_lexer": "ipython3",
   "version": "3.9.13"
  }
 },
 "nbformat": 4,
 "nbformat_minor": 5
}
